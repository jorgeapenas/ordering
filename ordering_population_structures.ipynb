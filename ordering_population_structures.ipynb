{
 "cells": [
  {
   "cell_type": "markdown",
   "metadata": {},
   "source": [
    "## Ordering population structures by increasing cooperativeness"
   ]
  },
  {
   "cell_type": "markdown",
   "metadata": {},
   "source": [
    "Import packages and set up general stuff."
   ]
  },
  {
   "cell_type": "code",
   "execution_count": 5,
   "metadata": {
    "collapsed": true
   },
   "outputs": [],
   "source": [
    "import numpy as np\n",
    "import matplotlib.pyplot as plt\n",
    "%matplotlib inline\n",
    "import seaborn as sns\n",
    "\n",
    "sns.set_style(\"white\")\n",
    "sns.set_style(\"ticks\")\n",
    "\n",
    "plt.rc('text', usetex=True)\n",
    "plt.rc('text.latex', preamble=\"\\usepackage{color}\")\n",
    "plt.rc('text.latex', preamble=\"\\usepackage{amsmath}\")"
   ]
  },
  {
   "cell_type": "markdown",
   "metadata": {},
   "source": [
    "For $d = 2$, the structure coefficients for the death-Birth process on a cycle are given by $\\sigma_0=1$ and $\\sigma_1 = (3N-8)/N$.\n",
    "For $d \\geq 3$, they are given by (see Table 1 in the paper)\n",
    "\n",
    "$\\sigma_j = \\left\\{ \\begin{array}{ll} 1  & \\mbox{if } j=0 \\\\ \\frac{2N}{N+1} & \\mbox{if } 1 \\leq j \\leq d-3 \\\\ \\frac{2N-1}{N+1} & \\mbox{if } j = d-2 \\\\ \\frac{3(N-d)}{N+1} & \\mbox{if } j = d-1 \\end{array} \\right.$\n",
    "\n",
    "The structure coefficients for the Moran process on a group splitting model in the limit of rare splitting are given by (see Table 1 in the paper)\n",
    "\n",
    "$\\sigma_j = \\left\\{ \\begin{array}{ll} 1  & \\mbox{if } 0 \\leq j \\leq d-2 \\\\ 1+\\frac{d(m-2)}{n} & \\mbox{if } j = d-1 \\end{array} \\right.$\n",
    "\n",
    "Without loss of generality, the structure coefficients can be multiplied by a positive constant. For convenience, we multiply the structure coefficients of the cycle by $N$ (for $d=2$) and by $N+1$ (for $d \\geq 3$) and those of the group splitting model by $n$."
   ]
  },
  {
   "cell_type": "code",
   "execution_count": 6,
   "metadata": {
    "collapsed": true
   },
   "outputs": [],
   "source": [
    "def sigmas_cycle(N,d): # N is the population size; d is the number of players\n",
    "    if d == 2:\n",
    "        return np.array([N,3*N-8])\n",
    "    elif d == 3:\n",
    "        sigmas = np.array([N+1,2*N-1,3*N-9])\n",
    "    else:\n",
    "        sigmas = np.append(N+1,2*N*np.ones(d-3))\n",
    "        sigmas = np.append(sigmas,2*N-1)\n",
    "        sigmas = np.append(sigmas,3*(N-d))\n",
    "    return sigmas\n",
    "\n",
    "def sigmas_group_splitting(m,n,d): # m is the number of groups; n is the maximum group size; d is the number of players\n",
    "    return np.append(n*np.ones(d-1),n+d*(m-2))"
   ]
  },
  {
   "cell_type": "markdown",
   "metadata": {},
   "source": [
    "We normalize the structure coefficients so that they describe a probability distribution."
   ]
  },
  {
   "cell_type": "code",
   "execution_count": 7,
   "metadata": {
    "collapsed": true
   },
   "outputs": [],
   "source": [
    "def normalize(sigmas):\n",
    "    return sigmas/(1.*(np.sum(sigmas)))"
   ]
  },
  {
   "cell_type": "markdown",
   "metadata": {},
   "source": [
    "The following code reproduces Fig. 2 in the paper."
   ]
  },
  {
   "cell_type": "code",
   "execution_count": 9,
   "metadata": {
    "collapsed": false
   },
   "outputs": [
    {
     "data": {
      "image/png": "[encoded data removed]",
      "text/plain": [
       "<matplotlib.figure.Figure at 0x7fa5badf6790>"
      ]
     },
     "metadata": {},
     "output_type": "display_data"
    }
   ],
   "source": [
    "color1 = sns.xkcd_rgb[\"denim blue\"]\n",
    "color2 = sns.xkcd_rgb[\"pale red\"]\n",
    "color3 = sns.xkcd_rgb[\"blue green\"]\n",
    "\n",
    "sigmas_1 = normalize(sigmas_group_splitting(10,6,5))\n",
    "sigmas_2 = normalize(sigmas_cycle(60,5))\n",
    "sigmas_3 = normalize(sigmas_group_splitting(6,10,5))\n",
    "\n",
    "label_1 = \"$\\\\boldsymbol{\\\\sigma}_1$\"\n",
    "label_2 = \"$\\\\boldsymbol{\\\\sigma}_2$\"\n",
    "label_3 = \"$\\\\boldsymbol{\\\\sigma}_3$\"\n",
    "\n",
    "ks = np.arange(5)\n",
    "plt.plot(ks,sigmas_1,color=color1)\n",
    "plt.plot(ks,sigmas_1,color=color1,marker='o',markersize=10,label=label_1)\n",
    "plt.plot(ks,sigmas_2,color=color2)\n",
    "plt.plot(ks,sigmas_2,color=color2,marker='o',markersize=10,label=label_2)\n",
    "plt.plot(ks,sigmas_3,color=color3)\n",
    "plt.plot(ks,sigmas_3,color=color3,marker='o',markersize=10,label=label_3)\n",
    "plt.xlabel('number of other $A$-players, $j$')\n",
    "plt.ylabel('(normalized) structure coefficient, $\\\\sigma_j$')\n",
    "plt.axis([-0.25, 4.5, 0, 0.7])\n",
    "plt.xticks(np.arange(0, 5, 1.0))\n",
    "\n",
    "plt.text(1.45,.5,'$\\mathcal{S}_1$',color=color1,fontsize=20)\n",
    "plt.text(1.75,.5,'$\\geq_{\\mathrm{con}}$',color='k',fontsize=20)\n",
    "plt.text(2.275,.5,'$\\mathcal{S}_2$',color=color2,fontsize=20)\n",
    "\n",
    "plt.text(1.45,.4,'$\\mathcal{S}_1$',color=color1,fontsize=20)\n",
    "plt.text(1.75,.4,'$\\geq_{\\mathrm{con}}$',color='k',fontsize=20)\n",
    "plt.text(2.275,.4,'$\\mathcal{S}_3$',color=color3,fontsize=20)\n",
    "\n",
    "plt.text(1.45,.3,'$\\mathcal{S}_2$',color=color2,fontsize=20)\n",
    "plt.text(1.75,.3,'$\\parallel_{\\mathrm{con}}$',color='k',fontsize=20)\n",
    "plt.text(2.275,.3,'$\\mathcal{S}_3$',color=color3,fontsize=20)\n",
    "\n",
    "plt.text(4.15,.63,'$\\\\boldsymbol{\\\\sigma}_1$',color=color1,fontsize=20)\n",
    "plt.text(4.15,.26,'$\\\\boldsymbol{\\\\sigma}_2$',color=color2,fontsize=20)\n",
    "plt.text(4.15,.41,'$\\\\boldsymbol{\\\\sigma}_3$',color=color3,fontsize=20)\n",
    "\n",
    "plt.tight_layout()\n",
    "#plt.savefig('Fig2.pdf')"
   ]
  },
  {
   "cell_type": "markdown",
   "metadata": {},
   "source": [
    "The volume of all $d$-player cooperation games is given by (see Eq. 8)\n",
    "\n",
    "$ \\text{Vol} \\left( \\mathcal{P} \\right) = \\frac{1}{(d!)^2} - \\frac{1}{(2d)!}$"
   ]
  },
  {
   "cell_type": "code",
   "execution_count": 10,
   "metadata": {
    "collapsed": true
   },
   "outputs": [],
   "source": [
    "def volP(d):\n",
    "    return 1./(np.math.factorial(d)**2) - 1./np.math.factorial(2*d)"
   ]
  },
  {
   "cell_type": "markdown",
   "metadata": {},
   "source": [
    "For population structures with symmetric structure coefficients, i.e., $\\sigma_j = \\sigma_{d-1-j}$ for all $j$, the fraction of cooperation games for which cooperation is favored is equal to (see Eq. 9)\n",
    "\n",
    "$\\frac{\\text{Vol}(\\mathcal{Q})}{\\text{Vol}(\\mathcal{P})} = \\frac{1}{2} \\frac{(2 d)!}{(2d)!-(d!)^2}$"
   ]
  },
  {
   "cell_type": "code",
   "execution_count": 11,
   "metadata": {
    "collapsed": true
   },
   "outputs": [],
   "source": [
    "def volQP(d):\n",
    "    return (1./2)*np.math.factorial(2*d)/(np.math.factorial(2*d)-np.math.factorial(d)**2)"
   ]
  },
  {
   "cell_type": "markdown",
   "metadata": {},
   "source": [
    "The following code reproduces Fig. 3 in the paper."
   ]
  },
  {
   "cell_type": "code",
   "execution_count": 14,
   "metadata": {
    "collapsed": false
   },
   "outputs": [
    {
     "data": {
      "image/png": "[encoded data removed]",
      "text/plain": [
       "<matplotlib.figure.Figure at 0x7fa5baed6e90>"
      ]
     },
     "metadata": {},
     "output_type": "display_data"
    }
   ],
   "source": [
    "color1 = sns.xkcd_rgb[\"denim blue\"]\n",
    "\n",
    "dsp = np.arange(2,80)\n",
    "dsq = np.arange(2,21)\n",
    "\n",
    "volp = np.zeros(len(dsp))\n",
    "volqp = np.zeros(len(dsq))\n",
    "\n",
    "for i in range(len(volp)):\n",
    "    volp[i] = volP(dsp[i])\n",
    "    \n",
    "for i in range(len(volqp)):\n",
    "    volqp[i] = volQP(dsq[i])\n",
    "\n",
    "plt.plot(dsq,volqp,color=color1,marker='o',markersize=10)\n",
    "plt.xlim(1,21)\n",
    "plt.ylim(0.5,1.)\n",
    "plt.xticks(np.array([2,4,6,8,10,12,14,16,18,20]))\n",
    "plt.yticks(np.array([0.4,0.5,0.6,0.7,0.8,0.9,1.0]))\n",
    "plt.xlabel(\"number of players, $d$\")\n",
    "plt.ylabel(\"$\\mathrm{Vol}(\\mathcal{Q})/\\mathrm{Vol}(\\mathcal{P})$\")\n",
    "    \n",
    "plt.axes([.5, .5, .4, .4])\n",
    "\n",
    "plt.loglog(dsp,volp,color=color1,marker='o',markersize=8)\n",
    "plt.ylim(10**(-240),10**10)\n",
    "plt.yticks(np.array([10**(-1),10**(-100),10**(-200)]))\n",
    "plt.xlabel(\"number of players, $d$\")\n",
    "plt.ylabel(\"$\\mathrm{Vol}(\\mathcal{P})$\")\n",
    "\n",
    "plt.tight_layout()\n",
    "#plt.savefig('Fig3.pdf')"
   ]
  },
  {
   "cell_type": "markdown",
   "metadata": {},
   "source": [
    "The following code implements a Monte Carlo method to estimate (normalized) volumes of $\\mathcal{Q}$ (the polytope of cooperation games that are favored by selection under a given population structure)."
   ]
  },
  {
   "cell_type": "code",
   "execution_count": 32,
   "metadata": {
    "collapsed": true
   },
   "outputs": [],
   "source": [
    "def estimate_vol_MC(n_games,sigmas):\n",
    "    d = len(sigmas) # get number of players    \n",
    "    A = np.random.uniform(low=0,high=1,size=(n_games,d)) # generate random payoff sequences $a_j$\n",
    "    A = np.sort(A,axis=1) # sort them so that the sequences are increasing\n",
    "    B = np.random.uniform(low=0,high=1,size=(n_games,d)) # generate random payoff sequences $b_j$\n",
    "    B = np.sort(B,axis=1) # sort them so that the sequence is increasing\n",
    "    # up to this point all random games satisfy a_{j+1} >= a_j and b_{j+1} >= b_j (Eq. 1 in the paper)\n",
    "    cond_mutual = A[:,d-1] > B[:,0] # check condition a_{d-1} > b_0 (Eq. 2 in the paper)\n",
    "    ind = np.where(cond_mutual == True)[0] # get indices of games satisfying the conditions of a cooperation game\n",
    "    n_coopgames = len(ind) # get the number of cooperation games\n",
    "    F = A[ind] - np.fliplr(B[ind]) # calculate the gains from flipping a_j - b_{d-1-j}\n",
    "    EF = np.sum(sigmas*1. * F,axis=1) # calculate the expected gains from flipping\n",
    "    normalized_vol = np.sum(EF > 0)*1. / n_coopgames # calculate fraction of games for which cooperation is favored\n",
    "        \n",
    "    return n_coopgames, normalized_vol"
   ]
  },
  {
   "cell_type": "markdown",
   "metadata": {},
   "source": [
    "The following code calls estimate_vol_MC for the two population structures used as examples in Fig. 4. and for several values of $d$, the number of players (This can take a while...)"
   ]
  },
  {
   "cell_type": "code",
   "execution_count": 43,
   "metadata": {
    "collapsed": false
   },
   "outputs": [],
   "source": [
    "n_games = 10**6 # number of games (point) to sample\n",
    "\n",
    "ds = np.arange(2,31) # range of d\n",
    "\n",
    "n_coopgames = np.zeros(len(ds))\n",
    "vol_1 = np.zeros(len(ds))\n",
    "vol_2 = np.zeros(len(ds))\n",
    "\n",
    "for i in range(len(ds)):\n",
    "    d = ds[i]\n",
    "    sigmas_1 = sigmas_cycle(1000,d) # a cycle of size N = 1000\n",
    "    sigmas_2 = sigmas_group_splitting(10,100,d) # group splitting model with m=10 groups of maximum size n=100\n",
    "    n_coopgames[i], vol_1[i] = estimate_vol_MC(n_games,sigmas_1)\n",
    "    n_coopgames[i], vol_2[i] = estimate_vol_MC(n_games,sigmas_2)"
   ]
  },
  {
   "cell_type": "markdown",
   "metadata": {},
   "source": [
    "Save data to text file."
   ]
  },
  {
   "cell_type": "code",
   "execution_count": 46,
   "metadata": {
    "collapsed": true
   },
   "outputs": [],
   "source": [
    "np.savetxt('vol1.out', vol_1, delimiter=',')\n",
    "np.savetxt('vol2.out', vol_2, delimiter=',')"
   ]
  },
  {
   "cell_type": "markdown",
   "metadata": {},
   "source": [
    "The following code reproduces Fig. 4 in the paper. The data for the numerical estimates was generated using the code above and saved to text files."
   ]
  },
  {
   "cell_type": "code",
   "execution_count": 16,
   "metadata": {
    "collapsed": false
   },
   "outputs": [
    {
     "data": {
      "image/png": "[encoded data removed]",
      "text/plain": [
       "<matplotlib.figure.Figure at 0x7fa5b723f250>"
      ]
     },
     "metadata": {},
     "output_type": "display_data"
    }
   ],
   "source": [
    "# load data\n",
    "vol1 = np.loadtxt('vol1_paper.out')\n",
    "vol2 = np.loadtxt('vol2_paper.out')\n",
    "\n",
    "# define colors\n",
    "color1 = sns.xkcd_rgb[\"denim blue\"]\n",
    "color2 = sns.xkcd_rgb[\"pale red\"]\n",
    "\n",
    "ds = np.arange(2,31) # range of d for the numerical estimation\n",
    "ds_exact = np.arange(2,7) # range of d for the exact results\n",
    "\n",
    "# exact results (obtained from the Sage worksheet exact_volumes.sws)\n",
    "vol1_exact = np.array([0.85516194,  0.79598249,  0.777039,  0.76807489,  0.76099549])\n",
    "vol2_exact = np.array([0.64416259, 0.59583647, 0.59896481, 0.61385155, 0.63065415])\n",
    "\n",
    "plt.plot(ds_exact,vol1_exact,color=color1,marker='s',markersize=10,alpha=0.8,label=\"$\\mathcal{S}_1$ (exact)\")\n",
    "plt.plot(ds,vol1,color=color1,marker='o',markersize=10,label=\"$\\mathcal{S}_1$ (simulations)\")\n",
    "\n",
    "plt.plot(ds_exact,vol2_exact,color=color2,marker='s',markersize=10,alpha=0.8,label=\"$\\mathcal{S}_2$ (exact)\")\n",
    "plt.plot(ds,vol2,color=color2,marker='o',markersize=10,label=\"$\\mathcal{S}_2$ (simulations)\")\n",
    "\n",
    "plt.fill_between(ds, vol1, vol2, facecolor='b', alpha=0.1)\n",
    "\n",
    "plt.axvline(x=7.5,color='k',ls='--')\n",
    "plt.axis([1, np.max(ds)+1, 0.3, 1])\n",
    "plt.xticks(np.array([2,4,6,8,10,12,14,16,18,20,22,24,26,28,30]))\n",
    "plt.xlabel('number of players, $d$')\n",
    "plt.ylabel('$\\mathrm{Vol}(\\mathcal{Q}_i)/\\mathrm{Vol}(\\mathcal{P})$')\n",
    "\n",
    "plt.text(3,.85,'$\\mathcal{S}_1$',color=color1,fontsize=15)\n",
    "plt.text(3,.525,'$\\mathcal{S}_2$',color=color2,fontsize=15)\n",
    "\n",
    "plt.text(1.5,.4,'$\\mathcal{S}_1$',color=color1,fontsize=15)\n",
    "plt.text(3,.4,'$\\geq_{\\mathrm{con}}$',color='k',fontsize=15)\n",
    "plt.text(5.75,.4,'$\\mathcal{S}_2$',color=color2,fontsize=15)\n",
    "\n",
    "plt.text(16,.4,'$\\mathcal{S}_1$',color=color1,fontsize=15)\n",
    "plt.text(17.5,.4,'$\\parallel_{\\mathrm{con}}$',color='k',fontsize=15)\n",
    "plt.text(19.75,.4,'$\\mathcal{S}_2$',color=color2,fontsize=15)\n",
    "\n",
    "plt.tight_layout()\n",
    "plt.savefig('Fig4.pdf',bbox_inches='tight')"
   ]
  },
  {
   "cell_type": "code",
   "execution_count": 17,
   "metadata": {
    "collapsed": false
   },
   "outputs": [
    {
     "data": {
      "text/plain": [
       "'4.0.0'"
      ]
     },
     "execution_count": 17,
     "metadata": {},
     "output_type": "execute_result"
    }
   ],
   "source": []
  }
 ],
 "metadata": {
  "kernelspec": {
   "display_name": "Python 2",
   "language": "python",
   "name": "python2"
  },
  "language_info": {
   "codemirror_mode": {
    "name": "ipython",
    "version": 2
   },
   "file_extension": ".py",
   "mimetype": "text/x-python",
   "name": "python",
   "nbconvert_exporter": "python",
   "pygments_lexer": "ipython2",
   "version": "2.7.10"
  }
 },
 "nbformat": 4,
 "nbformat_minor": 0
}
